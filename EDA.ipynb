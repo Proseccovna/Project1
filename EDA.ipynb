{
 "cells": [
  {
   "cell_type": "code",
   "execution_count": 24,
   "id": "30f33bed",
   "metadata": {
    "jupyter": {
     "source_hidden": true
    }
   },
   "outputs": [],
   "source": [
    "import pandas as pd\n",
    "import seaborn as sns\n",
    "import matplotlib.pyplot as plt\n",
    "import numpy as np\n",
    "\n",
    "from IPython.display import display"
   ]
  },
  {
   "cell_type": "code",
   "execution_count": 25,
   "id": "3a23e151",
   "metadata": {
    "jupyter": {
     "source_hidden": true
    }
   },
   "outputs": [],
   "source": [
    "pd.set_option('display.max_columns', None)"
   ]
  },
  {
   "cell_type": "code",
   "execution_count": 26,
   "id": "04ef7d9e",
   "metadata": {
    "jupyter": {
     "source_hidden": true
    }
   },
   "outputs": [],
   "source": [
    "df = pd.read_csv('~/ds_bootcamp/ds-phase-0/learning/datasets/data.csv', index_col='Unnamed: 0')"
   ]
  },
  {
   "cell_type": "markdown",
   "id": "d1e7bf8d",
   "metadata": {},
   "source": [
    "### Изучение общей информации по данным"
   ]
  },
  {
   "cell_type": "markdown",
   "id": "f53e4232",
   "metadata": {},
   "source": [
    "#### Общая информация по данным"
   ]
  },
  {
   "cell_type": "code",
   "execution_count": 27,
   "id": "dadc3216",
   "metadata": {
    "jupyter": {
     "source_hidden": true
    }
   },
   "outputs": [
    {
     "name": "stdout",
     "output_type": "stream",
     "text": [
      "Длина списка, кол-во колонок (23368, 24)\n",
      "Список колонок ['ID  объявления', 'Количество комнат', 'Тип', 'Метро', 'Адрес', 'Площадь, м2', 'Дом', 'Парковка', 'Цена', 'Телефоны', 'Описание', 'Ремонт', 'Площадь комнат, м2', 'Балкон', 'Окна', 'Санузел', 'Можно с детьми/животными', 'Дополнительно', 'Название ЖК', 'Серия дома', 'Высота потолков, м', 'Лифт', 'Мусоропровод', 'Ссылка на объявление']\n"
     ]
    }
   ],
   "source": [
    "print('Длина списка, кол-во колонок', df.shape)\n",
    "print('Список колонок', df.columns.to_list())"
   ]
  },
  {
   "cell_type": "code",
   "execution_count": 28,
   "id": "c6cd4c10",
   "metadata": {
    "jupyter": {
     "source_hidden": true
    }
   },
   "outputs": [
    {
     "name": "stdout",
     "output_type": "stream",
     "text": [
      "<class 'pandas.core.frame.DataFrame'>\n",
      "Index: 23368 entries, 0 to 23367\n",
      "Data columns (total 24 columns):\n",
      " #   Column                    Non-Null Count  Dtype  \n",
      "---  ------                    --------------  -----  \n",
      " 0   ID  объявления            23368 non-null  int64  \n",
      " 1   Количество комнат         22327 non-null  object \n",
      " 2   Тип                       23368 non-null  object \n",
      " 3   Метро                     22053 non-null  object \n",
      " 4   Адрес                     23368 non-null  object \n",
      " 5   Площадь, м2               23368 non-null  object \n",
      " 6   Дом                       23368 non-null  object \n",
      " 7   Парковка                  9951 non-null   object \n",
      " 8   Цена                      23368 non-null  object \n",
      " 9   Телефоны                  23368 non-null  object \n",
      " 10  Описание                  23368 non-null  object \n",
      " 11  Ремонт                    20613 non-null  object \n",
      " 12  Площадь комнат, м2        14458 non-null  object \n",
      " 13  Балкон                    15390 non-null  object \n",
      " 14  Окна                      16755 non-null  object \n",
      " 15  Санузел                   20696 non-null  object \n",
      " 16  Можно с детьми/животными  17272 non-null  object \n",
      " 17  Дополнительно             23011 non-null  object \n",
      " 18  Название ЖК               5848 non-null   object \n",
      " 19  Серия дома                2163 non-null   object \n",
      " 20  Высота потолков, м        11206 non-null  float64\n",
      " 21  Лифт                      17868 non-null  object \n",
      " 22  Мусоропровод              12846 non-null  object \n",
      " 23  Ссылка на объявление      23368 non-null  object \n",
      "dtypes: float64(1), int64(1), object(22)\n",
      "memory usage: 4.5+ MB\n",
      "Общая информация по датасету None\n"
     ]
    }
   ],
   "source": [
    "print('Общая информация по датасету', df.info(verbose=True))"
   ]
  },
  {
   "cell_type": "markdown",
   "id": "42feecc9",
   "metadata": {},
   "source": [
    "Большую часть датасета составляют объекты - 22, вероятнее всего текстовые данные. \n",
    "Числовых признака - 2. Большое количество пропусков среди колонок.\n",
    "Посмотрим распределение по числовым признакам."
   ]
  },
  {
   "cell_type": "code",
   "execution_count": 29,
   "id": "e9409f38",
   "metadata": {},
   "outputs": [
    {
     "data": {
      "text/html": [
       "<div>\n",
       "<style scoped>\n",
       "    .dataframe tbody tr th:only-of-type {\n",
       "        vertical-align: middle;\n",
       "    }\n",
       "\n",
       "    .dataframe tbody tr th {\n",
       "        vertical-align: top;\n",
       "    }\n",
       "\n",
       "    .dataframe thead th {\n",
       "        text-align: right;\n",
       "    }\n",
       "</style>\n",
       "<table border=\"1\" class=\"dataframe\">\n",
       "  <thead>\n",
       "    <tr style=\"text-align: right;\">\n",
       "      <th></th>\n",
       "      <th>ID  объявления</th>\n",
       "      <th>Высота потолков, м</th>\n",
       "    </tr>\n",
       "  </thead>\n",
       "  <tbody>\n",
       "    <tr>\n",
       "      <th>count</th>\n",
       "      <td>2.336800e+04</td>\n",
       "      <td>11206.00000</td>\n",
       "    </tr>\n",
       "    <tr>\n",
       "      <th>mean</th>\n",
       "      <td>2.676265e+08</td>\n",
       "      <td>2.98345</td>\n",
       "    </tr>\n",
       "    <tr>\n",
       "      <th>std</th>\n",
       "      <td>1.876862e+07</td>\n",
       "      <td>7.61472</td>\n",
       "    </tr>\n",
       "    <tr>\n",
       "      <th>min</th>\n",
       "      <td>1.072986e+08</td>\n",
       "      <td>1.20000</td>\n",
       "    </tr>\n",
       "    <tr>\n",
       "      <th>25%</th>\n",
       "      <td>2.712663e+08</td>\n",
       "      <td>2.64000</td>\n",
       "    </tr>\n",
       "    <tr>\n",
       "      <th>50%</th>\n",
       "      <td>2.739030e+08</td>\n",
       "      <td>2.64000</td>\n",
       "    </tr>\n",
       "    <tr>\n",
       "      <th>75%</th>\n",
       "      <td>2.746872e+08</td>\n",
       "      <td>2.80000</td>\n",
       "    </tr>\n",
       "    <tr>\n",
       "      <th>max</th>\n",
       "      <td>2.750064e+08</td>\n",
       "      <td>320.00000</td>\n",
       "    </tr>\n",
       "  </tbody>\n",
       "</table>\n",
       "</div>"
      ],
      "text/plain": [
       "       ID  объявления  Высота потолков, м\n",
       "count    2.336800e+04         11206.00000\n",
       "mean     2.676265e+08             2.98345\n",
       "std      1.876862e+07             7.61472\n",
       "min      1.072986e+08             1.20000\n",
       "25%      2.712663e+08             2.64000\n",
       "50%      2.739030e+08             2.64000\n",
       "75%      2.746872e+08             2.80000\n",
       "max      2.750064e+08           320.00000"
      ]
     },
     "execution_count": 29,
     "metadata": {},
     "output_type": "execute_result"
    }
   ],
   "source": [
    "df.describe()"
   ]
  },
  {
   "cell_type": "markdown",
   "id": "92d0ec61",
   "metadata": {},
   "source": [
    "#### Общая информация по пропускам"
   ]
  },
  {
   "cell_type": "code",
   "execution_count": 66,
   "id": "cccce5d0",
   "metadata": {
    "jupyter": {
     "source_hidden": true
    }
   },
   "outputs": [
    {
     "data": {
      "text/html": [
       "<style type=\"text/css\">\n",
       "#T_ecac6_row0_col0, #T_ecac6_row0_col1 {\n",
       "  background-color: #b40426;\n",
       "  color: #f1f1f1;\n",
       "}\n",
       "#T_ecac6_row1_col0, #T_ecac6_row1_col1 {\n",
       "  background-color: #e97a5f;\n",
       "  color: #f1f1f1;\n",
       "}\n",
       "#T_ecac6_row2_col0, #T_ecac6_row2_col1 {\n",
       "  background-color: #f5c4ac;\n",
       "  color: #000000;\n",
       "}\n",
       "#T_ecac6_row3_col0, #T_ecac6_row3_col1 {\n",
       "  background-color: #ecd3c5;\n",
       "  color: #000000;\n",
       "}\n",
       "#T_ecac6_row4_col0, #T_ecac6_row4_col1 {\n",
       "  background-color: #d9dce1;\n",
       "  color: #000000;\n",
       "}\n",
       "#T_ecac6_row5_col0, #T_ecac6_row5_col1 {\n",
       "  background-color: #c4d5f3;\n",
       "  color: #000000;\n",
       "}\n",
       "#T_ecac6_row6_col0, #T_ecac6_row6_col1 {\n",
       "  background-color: #b5cdfa;\n",
       "  color: #000000;\n",
       "}\n",
       "#T_ecac6_row7_col0, #T_ecac6_row7_col1 {\n",
       "  background-color: #9ebeff;\n",
       "  color: #000000;\n",
       "}\n",
       "#T_ecac6_row8_col0, #T_ecac6_row8_col1 {\n",
       "  background-color: #96b7ff;\n",
       "  color: #000000;\n",
       "}\n",
       "#T_ecac6_row9_col0, #T_ecac6_row9_col1 {\n",
       "  background-color: #8caffe;\n",
       "  color: #000000;\n",
       "}\n",
       "#T_ecac6_row10_col0, #T_ecac6_row10_col1 {\n",
       "  background-color: #5e7de7;\n",
       "  color: #f1f1f1;\n",
       "}\n",
       "#T_ecac6_row11_col0, #T_ecac6_row11_col1 {\n",
       "  background-color: #5d7ce6;\n",
       "  color: #f1f1f1;\n",
       "}\n",
       "#T_ecac6_row12_col0, #T_ecac6_row12_col1 {\n",
       "  background-color: #485fd1;\n",
       "  color: #f1f1f1;\n",
       "}\n",
       "#T_ecac6_row13_col0, #T_ecac6_row13_col1 {\n",
       "  background-color: #445acc;\n",
       "  color: #f1f1f1;\n",
       "}\n",
       "#T_ecac6_row14_col0, #T_ecac6_row14_col1 {\n",
       "  background-color: #3b4cc0;\n",
       "  color: #f1f1f1;\n",
       "}\n",
       "</style>\n",
       "<table id=\"T_ecac6\">\n",
       "  <thead>\n",
       "    <tr>\n",
       "      <th class=\"blank level0\" >&nbsp;</th>\n",
       "      <th id=\"T_ecac6_level0_col0\" class=\"col_heading level0 col0\" >count_of_nan</th>\n",
       "      <th id=\"T_ecac6_level0_col1\" class=\"col_heading level0 col1\" >percentage_of_nan</th>\n",
       "    </tr>\n",
       "  </thead>\n",
       "  <tbody>\n",
       "    <tr>\n",
       "      <th id=\"T_ecac6_level0_row0\" class=\"row_heading level0 row0\" >Серия дома</th>\n",
       "      <td id=\"T_ecac6_row0_col0\" class=\"data row0 col0\" >21205</td>\n",
       "      <td id=\"T_ecac6_row0_col1\" class=\"data row0 col1\" >90.740000</td>\n",
       "    </tr>\n",
       "    <tr>\n",
       "      <th id=\"T_ecac6_level0_row1\" class=\"row_heading level0 row1\" >Название ЖК</th>\n",
       "      <td id=\"T_ecac6_row1_col0\" class=\"data row1 col0\" >17520</td>\n",
       "      <td id=\"T_ecac6_row1_col1\" class=\"data row1 col1\" >74.970000</td>\n",
       "    </tr>\n",
       "    <tr>\n",
       "      <th id=\"T_ecac6_level0_row2\" class=\"row_heading level0 row2\" >Парковка</th>\n",
       "      <td id=\"T_ecac6_row2_col0\" class=\"data row2 col0\" >13417</td>\n",
       "      <td id=\"T_ecac6_row2_col1\" class=\"data row2 col1\" >57.420000</td>\n",
       "    </tr>\n",
       "    <tr>\n",
       "      <th id=\"T_ecac6_level0_row3\" class=\"row_heading level0 row3\" >Высота потолков, м</th>\n",
       "      <td id=\"T_ecac6_row3_col0\" class=\"data row3 col0\" >12162</td>\n",
       "      <td id=\"T_ecac6_row3_col1\" class=\"data row3 col1\" >52.050000</td>\n",
       "    </tr>\n",
       "    <tr>\n",
       "      <th id=\"T_ecac6_level0_row4\" class=\"row_heading level0 row4\" >Мусоропровод</th>\n",
       "      <td id=\"T_ecac6_row4_col0\" class=\"data row4 col0\" >10522</td>\n",
       "      <td id=\"T_ecac6_row4_col1\" class=\"data row4 col1\" >45.030000</td>\n",
       "    </tr>\n",
       "    <tr>\n",
       "      <th id=\"T_ecac6_level0_row5\" class=\"row_heading level0 row5\" >Площадь комнат, м2</th>\n",
       "      <td id=\"T_ecac6_row5_col0\" class=\"data row5 col0\" >8910</td>\n",
       "      <td id=\"T_ecac6_row5_col1\" class=\"data row5 col1\" >38.130000</td>\n",
       "    </tr>\n",
       "    <tr>\n",
       "      <th id=\"T_ecac6_level0_row6\" class=\"row_heading level0 row6\" >Балкон</th>\n",
       "      <td id=\"T_ecac6_row6_col0\" class=\"data row6 col0\" >7978</td>\n",
       "      <td id=\"T_ecac6_row6_col1\" class=\"data row6 col1\" >34.140000</td>\n",
       "    </tr>\n",
       "    <tr>\n",
       "      <th id=\"T_ecac6_level0_row7\" class=\"row_heading level0 row7\" >Окна</th>\n",
       "      <td id=\"T_ecac6_row7_col0\" class=\"data row7 col0\" >6613</td>\n",
       "      <td id=\"T_ecac6_row7_col1\" class=\"data row7 col1\" >28.300000</td>\n",
       "    </tr>\n",
       "    <tr>\n",
       "      <th id=\"T_ecac6_level0_row8\" class=\"row_heading level0 row8\" >Можно с детьми/животными</th>\n",
       "      <td id=\"T_ecac6_row8_col0\" class=\"data row8 col0\" >6096</td>\n",
       "      <td id=\"T_ecac6_row8_col1\" class=\"data row8 col1\" >26.090000</td>\n",
       "    </tr>\n",
       "    <tr>\n",
       "      <th id=\"T_ecac6_level0_row9\" class=\"row_heading level0 row9\" >Лифт</th>\n",
       "      <td id=\"T_ecac6_row9_col0\" class=\"data row9 col0\" >5500</td>\n",
       "      <td id=\"T_ecac6_row9_col1\" class=\"data row9 col1\" >23.540000</td>\n",
       "    </tr>\n",
       "    <tr>\n",
       "      <th id=\"T_ecac6_level0_row10\" class=\"row_heading level0 row10\" >Ремонт</th>\n",
       "      <td id=\"T_ecac6_row10_col0\" class=\"data row10 col0\" >2755</td>\n",
       "      <td id=\"T_ecac6_row10_col1\" class=\"data row10 col1\" >11.790000</td>\n",
       "    </tr>\n",
       "    <tr>\n",
       "      <th id=\"T_ecac6_level0_row11\" class=\"row_heading level0 row11\" >Санузел</th>\n",
       "      <td id=\"T_ecac6_row11_col0\" class=\"data row11 col0\" >2672</td>\n",
       "      <td id=\"T_ecac6_row11_col1\" class=\"data row11 col1\" >11.430000</td>\n",
       "    </tr>\n",
       "    <tr>\n",
       "      <th id=\"T_ecac6_level0_row12\" class=\"row_heading level0 row12\" >Метро</th>\n",
       "      <td id=\"T_ecac6_row12_col0\" class=\"data row12 col0\" >1315</td>\n",
       "      <td id=\"T_ecac6_row12_col1\" class=\"data row12 col1\" >5.630000</td>\n",
       "    </tr>\n",
       "    <tr>\n",
       "      <th id=\"T_ecac6_level0_row13\" class=\"row_heading level0 row13\" >Количество комнат</th>\n",
       "      <td id=\"T_ecac6_row13_col0\" class=\"data row13 col0\" >1041</td>\n",
       "      <td id=\"T_ecac6_row13_col1\" class=\"data row13 col1\" >4.450000</td>\n",
       "    </tr>\n",
       "    <tr>\n",
       "      <th id=\"T_ecac6_level0_row14\" class=\"row_heading level0 row14\" >Дополнительно</th>\n",
       "      <td id=\"T_ecac6_row14_col0\" class=\"data row14 col0\" >357</td>\n",
       "      <td id=\"T_ecac6_row14_col1\" class=\"data row14 col1\" >1.530000</td>\n",
       "    </tr>\n",
       "  </tbody>\n",
       "</table>\n"
      ],
      "text/plain": [
       "<pandas.io.formats.style.Styler at 0x7f435e6381f0>"
      ]
     },
     "execution_count": 66,
     "metadata": {},
     "output_type": "execute_result"
    }
   ],
   "source": [
    "nan_count = df.isna().sum()\n",
    "nan_percent = df.isna().mean().round(4) * 100\n",
    "nan_df = pd.concat([nan_count, nan_percent], axis=1)\n",
    "nan_df.columns = ['count_of_nan', 'percentage_of_nan']\n",
    "nan_df.query('count_of_nan > 0').sort_values(by='percentage_of_nan', ascending=False)\\\n",
    ".style.background_gradient('coolwarm')"
   ]
  },
  {
   "cell_type": "markdown",
   "id": "2862d62d",
   "metadata": {},
   "source": [
    "#### Общая информация по явным дубликатам"
   ]
  },
  {
   "cell_type": "code",
   "execution_count": null,
   "id": "713edcfc",
   "metadata": {},
   "outputs": [
    {
     "data": {
      "text/plain": [
       "0"
      ]
     },
     "execution_count": 19,
     "metadata": {},
     "output_type": "execute_result"
    }
   ],
   "source": [
    "df.duplicated().sum()"
   ]
  },
  {
   "cell_type": "markdown",
   "id": "73ec2d1f",
   "metadata": {},
   "source": [
    "*Вывод: при первом знакомстве с данными видим в файле 24 признака и 23368 объектов, есть много пропусков. Целевой признак, а именно цену нужно выделить в отдельный столбец в типе float. Видим пропуски в 15 признаках, в одно из которых(Серия дома) их количество более 90% от общего количества данных. Ниже более детально разберем их причины и возможность исправления. Явные дубликаты в данных отсутствуют.*"
   ]
  },
  {
   "cell_type": "markdown",
   "id": "c82c5221",
   "metadata": {},
   "source": [
    "### Предобработка признаков"
   ]
  },
  {
   "cell_type": "markdown",
   "id": "790a7627",
   "metadata": {},
   "source": [
    "#### Цена - целевой признак"
   ]
  },
  {
   "cell_type": "markdown",
   "id": "5a31db99",
   "metadata": {},
   "source": [
    "*Преобразуем первую цифру в столбце в тип float и сохраним в отдельную колонку 'Стоимость аренды' - этот признак и будет в дальнейшем целевым. Проверим на пропуски. Посмотрим распределение признака на гистограмме. Из колонки Цена можно извлечь доп признак \"Стоимость залога\", который также считаем существенным для машинного обучения.*"
   ]
  },
  {
   "cell_type": "code",
   "execution_count": null,
   "id": "c9cfb3aa",
   "metadata": {
    "jupyter": {
     "source_hidden": true
    }
   },
   "outputs": [
    {
     "data": {
      "text/html": [
       "<div>\n",
       "<style scoped>\n",
       "    .dataframe tbody tr th:only-of-type {\n",
       "        vertical-align: middle;\n",
       "    }\n",
       "\n",
       "    .dataframe tbody tr th {\n",
       "        vertical-align: top;\n",
       "    }\n",
       "\n",
       "    .dataframe thead th {\n",
       "        text-align: right;\n",
       "    }\n",
       "</style>\n",
       "<table border=\"1\" class=\"dataframe\">\n",
       "  <thead>\n",
       "    <tr style=\"text-align: right;\">\n",
       "      <th></th>\n",
       "      <th>Стоимость аренды</th>\n",
       "    </tr>\n",
       "  </thead>\n",
       "  <tbody>\n",
       "    <tr>\n",
       "      <th>0</th>\n",
       "      <td>500000.0</td>\n",
       "    </tr>\n",
       "    <tr>\n",
       "      <th>1</th>\n",
       "      <td>500000.0</td>\n",
       "    </tr>\n",
       "    <tr>\n",
       "      <th>2</th>\n",
       "      <td>500000.0</td>\n",
       "    </tr>\n",
       "    <tr>\n",
       "      <th>3</th>\n",
       "      <td>400000.0</td>\n",
       "    </tr>\n",
       "    <tr>\n",
       "      <th>4</th>\n",
       "      <td>225000.0</td>\n",
       "    </tr>\n",
       "  </tbody>\n",
       "</table>\n",
       "</div>"
      ],
      "text/plain": [
       "   Стоимость аренды\n",
       "0          500000.0\n",
       "1          500000.0\n",
       "2          500000.0\n",
       "3          400000.0\n",
       "4          225000.0"
      ]
     },
     "execution_count": 22,
     "metadata": {},
     "output_type": "execute_result"
    }
   ],
   "source": [
    "df['Стоимость аренды'] = df['Цена'].str.extract('(\\d+\\.?\\d*)').astype('float')\n",
    "df[['Стоимость аренды']].head(5)"
   ]
  },
  {
   "cell_type": "code",
   "execution_count": null,
   "id": "68684280",
   "metadata": {
    "jupyter": {
     "source_hidden": true
    }
   },
   "outputs": [
    {
     "name": "stdout",
     "output_type": "stream",
     "text": [
      "Количество пропусков: 0\n"
     ]
    }
   ],
   "source": [
    "print('Количество пропусков:', df['Стоимость аренды'].isna().sum())"
   ]
  },
  {
   "cell_type": "markdown",
   "id": "232d9971",
   "metadata": {},
   "source": [
    "*Посмотрим распределение значений в целевом признаке*"
   ]
  },
  {
   "cell_type": "code",
   "execution_count": null,
   "id": "66fe1447",
   "metadata": {
    "jupyter": {
     "source_hidden": true
    }
   },
   "outputs": [
    {
     "data": {
      "image/png": "[encoded data removed]",
      "text/plain": [
       "<Figure size 1300x600 with 1 Axes>"
      ]
     },
     "metadata": {},
     "output_type": "display_data"
    }
   ],
   "source": [
    "plt.figure(figsize=[13, 6])\n",
    "sns.histplot(data=df['Стоимость аренды'], bins=100)\n",
    "plt.title('Гистограмма Стоимость аренды', fontsize=15)\n",
    "plt.xlabel('Стоимость аренды', labelpad=10, fontsize=10) #привести к норм цифрам+boxplot\n",
    "plt.ylabel('Количество наблюдений', labelpad=10, fontsize=10)\n",
    "plt.xlim(0, 800000) \n",
    "plt.show();"
   ]
  },
  {
   "cell_type": "markdown",
   "id": "f2b452e1",
   "metadata": {},
   "source": [
    "#### ID объявления"
   ]
  },
  {
   "cell_type": "markdown",
   "id": "3f38f0d6",
   "metadata": {},
   "source": [
    "*Данный столбец не влияет на цену, не принесет никакой информативности для предстоящего машинного обучения*"
   ]
  },
  {
   "cell_type": "markdown",
   "id": "e3ae2992",
   "metadata": {},
   "source": [
    "Количество комнат"
   ]
  },
  {
   "cell_type": "code",
   "execution_count": 37,
   "id": "92699243",
   "metadata": {
    "jupyter": {
     "source_hidden": true
    }
   },
   "outputs": [
    {
     "name": "stdout",
     "output_type": "stream",
     "text": [
      "Количечество уникальных значений: 24\n",
      "Список уникальных значений: 4 4, Оба варианта 2 3 5, Оба варианта 3, Изолированная 5 5, Изолированная 2, Оба варианта 3, Оба варианта 6 1 4, Изолированная 6, Оба варианта 2, Изолированная nan 2, Смежная 4, Смежная 3, Смежная 6, Изолированная 1, Изолированная 1, Оба варианта 5, Смежная 6, Смежная 1, Смежная\n",
      "Количество пропусков: 1041\n"
     ]
    }
   ],
   "source": [
    "print('Количечество уникальных значений:', df['Количество комнат'].nunique())\n",
    "print('Список уникальных значений:', *list(df['Количество комнат'].unique()))\n",
    "print('Количество пропусков:', df['Количество комнат'].isna().sum())"
   ]
  },
  {
   "cell_type": "markdown",
   "id": "40b4cb0c",
   "metadata": {},
   "source": [
    "*Это важный признак нужно его оставить. Количество уникальных значений - 24. Нужно предобработать этот признак, преобразовав в тип int, выделив число из str. Пропусков менее 5%, после преобразования их можно заполнить медианным значанием.*"
   ]
  },
  {
   "cell_type": "markdown",
   "id": "cf6b0c35",
   "metadata": {},
   "source": [
    "ТИП"
   ]
  },
  {
   "cell_type": "code",
   "execution_count": 38,
   "id": "4a3009a1",
   "metadata": {
    "jupyter": {
     "source_hidden": true
    }
   },
   "outputs": [
    {
     "name": "stdout",
     "output_type": "stream",
     "text": [
      "Количечество уникальных значений: 1\n",
      "Список уникальных значений: Квартира\n",
      "Количество пропусков: 0\n"
     ]
    }
   ],
   "source": [
    "print('Количечество уникальных значений:', df['Тип'].nunique())\n",
    "print('Список уникальных значений:', *list(df['Тип'].unique()))\n",
    "print('Количество пропусков:', df['Тип'].isna().sum())"
   ]
  },
  {
   "cell_type": "markdown",
   "id": "9cf2680e",
   "metadata": {},
   "source": [
    "*В данном столбце нет пропусков, уникальное значение одно - \"Квартира\". Это не несет никакой информативности для машинного обучения и на цену не влияет. Данный признак нужно удалить.*"
   ]
  },
  {
   "cell_type": "markdown",
   "id": "394c07e9",
   "metadata": {},
   "source": [
    "Метро"
   ]
  },
  {
   "cell_type": "code",
   "execution_count": 42,
   "id": "68d9f0b0",
   "metadata": {
    "jupyter": {
     "source_hidden": true
    }
   },
   "outputs": [
    {
     "name": "stdout",
     "output_type": "stream",
     "text": [
      "Количечество уникальных значений: 5866\n",
      "Количество пропусков: 1315\n",
      "['м. Смоленская (9 мин пешком)', 'м. Смоленская (8 мин пешком)', 'м. Смоленская (7 мин пешком)', 'м. Смоленская (3 мин пешком)']\n"
     ]
    }
   ],
   "source": [
    "print('Количечество уникальных значений:', df['Метро'].nunique())\n",
    "print('Количество пропусков:', df['Метро'].isna().sum())\n",
    "print(list(df['Метро'].loc[:3]))"
   ]
  },
  {
   "cell_type": "markdown",
   "id": "e8771eb3",
   "metadata": {},
   "source": [
    "*Имеем 5866 уникальных значений, менее 6% пропусков. Время до метро - важная информация, имеет смысл сделать из нее доп признак. Также можно выделить в дом признак названия метро, и потом их закодировать, если таких признаков не будет слишком много*"
   ]
  },
  {
   "cell_type": "markdown",
   "id": "85626623",
   "metadata": {},
   "source": [
    "Адрес"
   ]
  },
  {
   "cell_type": "code",
   "execution_count": 43,
   "id": "bffc1ed9",
   "metadata": {
    "jupyter": {
     "source_hidden": true
    }
   },
   "outputs": [
    {
     "name": "stdout",
     "output_type": "stream",
     "text": [
      "Количечество уникальных значений: 12850\n"
     ]
    }
   ],
   "source": [
    "print('Количечество уникальных значений:', df['Адрес'].nunique())"
   ]
  },
  {
   "cell_type": "markdown",
   "id": "852ee9a0",
   "metadata": {},
   "source": [
    "*Имеем более 12 тыс. уникальных значение. Данный признак можно удалить, более информативным является признак с наименованием метро, который мы планируем создать*"
   ]
  },
  {
   "cell_type": "markdown",
   "id": "6a74cab9",
   "metadata": {},
   "source": [
    "Дом"
   ]
  },
  {
   "cell_type": "code",
   "execution_count": 44,
   "id": "3827fe03",
   "metadata": {
    "jupyter": {
     "source_hidden": true
    }
   },
   "outputs": [
    {
     "name": "stdout",
     "output_type": "stream",
     "text": [
      "Количечество уникальных значений: 2565\n"
     ]
    }
   ],
   "source": [
    "print('Количечество уникальных значений:', df['Дом'].nunique())"
   ]
  },
  {
   "cell_type": "markdown",
   "id": "d762760f",
   "metadata": {},
   "source": [
    "*Имеем 2565 уникальных значений, пропусков нет. Можно создать из этого признака 3 новых доп признака: этаж продаваемой квартиры, этажность дома и тип дома. Затем типе дома пропуски заменить заглушками.*"
   ]
  },
  {
   "cell_type": "markdown",
   "id": "be60ac58",
   "metadata": {},
   "source": [
    "Парковка"
   ]
  },
  {
   "cell_type": "code",
   "execution_count": 47,
   "id": "ca6aa3c4",
   "metadata": {
    "jupyter": {
     "source_hidden": true
    }
   },
   "outputs": [
    {
     "name": "stdout",
     "output_type": "stream",
     "text": [
      "Количечество уникальных значений: 5\n",
      "Список уникальных значений: ['подземная', nan, 'наземная', 'открытая', 'многоуровневая', 'на крыше']\n",
      "Количество пропусков: 13417\n"
     ]
    }
   ],
   "source": [
    "print('Количечество уникальных значений:', df['Парковка'].nunique())\n",
    "print('Список уникальных значений:', list(df['Парковка'].unique()))\n",
    "print('Количество пропусков:', df['Парковка'].isna().sum())"
   ]
  },
  {
   "cell_type": "markdown",
   "id": "2182cc00",
   "metadata": {},
   "source": [
    "*Имеем всего 5 уникальных значений, 57% пропусков. Признак важный, закодироуем его, предварительно пропуски заполнив нулями.*"
   ]
  },
  {
   "cell_type": "markdown",
   "id": "4e8b5dc1",
   "metadata": {},
   "source": [
    "### В колонке \"Площадь, м2\":\n",
    "1. нет нулевых значений;\n",
    "2. Не установлен формат отражения информации о площади. Предлагаю оставить общую площадь, так как она есть во всех (предположительно) строках. \n",
    "   "
   ]
  },
  {
   "cell_type": "code",
   "execution_count": 51,
   "id": "0e7614b9",
   "metadata": {
    "jupyter": {
     "source_hidden": true
    }
   },
   "outputs": [
    {
     "name": "stdout",
     "output_type": "stream",
     "text": [
      "Количечество уникальных значений: 11255\n",
      "Количество пропусков: 0\n"
     ]
    }
   ],
   "source": [
    "print('Количечество уникальных значений:', df['Площадь, м2'].nunique())\n",
    "print('Количество пропусков:', df['Площадь, м2'].isna().sum())"
   ]
  },
  {
   "cell_type": "markdown",
   "id": "d3e8cea5",
   "metadata": {},
   "source": [
    "### Колонка \"Телефоны\" рекомендуется к удалению,  так как не несет в себе данных для ML"
   ]
  },
  {
   "cell_type": "markdown",
   "id": "60306eba",
   "metadata": {},
   "source": [
    "### Колонку \"Описание\" оставим на back-up, на случай, если понадобится в единичных случаях выцепить информацию. По факту она для ML нам не нужна. "
   ]
  },
  {
   "cell_type": "markdown",
   "id": "7563803d",
   "metadata": {},
   "source": [
    "### Колонка \"Ремонт\":\n",
    "1. Проверить на NaN\n",
    "2. В строках с NaN поставить заглушку типа \"Не указано\"\n",
    "3. Закодировать 'Дизайнерский', 'Евроремонт', 'Косметический', 'Не указано', 'Без ремонта' - 5 значений кодировки "
   ]
  },
  {
   "cell_type": "code",
   "execution_count": 49,
   "id": "9ea94718",
   "metadata": {
    "jupyter": {
     "source_hidden": true
    }
   },
   "outputs": [
    {
     "name": "stdout",
     "output_type": "stream",
     "text": [
      "Количечество уникальных значений: 4\n",
      "Список уникальных значений: ['Дизайнерский', 'Евроремонт', 'Косметический', nan, 'Без ремонта']\n",
      "Количество пропусков: 2755\n"
     ]
    }
   ],
   "source": [
    "print('Количечество уникальных значений:', df['Ремонт'].nunique())\n",
    "print('Список уникальных значений:', list(df['Ремонт'].unique()))\n",
    "print('Количество пропусков:', df['Ремонт'].isna().sum())"
   ]
  },
  {
   "cell_type": "markdown",
   "id": "77c01c5d",
   "metadata": {},
   "source": [
    "### Колонка \"Площадь комнат, м2\t\": поскольку не указан единый формат и везде разное количество комнат, рекомендуется к удалению"
   ]
  },
  {
   "cell_type": "markdown",
   "id": "2652f00f",
   "metadata": {},
   "source": [
    "### Колонка \"Балкон\":\n",
    "1. Предлагаю закодировать: \"Балкон\", \"Лоджия\", \"Отсутствует\"(для пропусков или NaN)  - 3 значения кодировки \n",
    "2. Указать количество балконов/лоджий в отдельной колонке (то, что в скобках)"
   ]
  },
  {
   "cell_type": "code",
   "execution_count": 50,
   "id": "804737da",
   "metadata": {
    "jupyter": {
     "source_hidden": true
    }
   },
   "outputs": [
    {
     "name": "stdout",
     "output_type": "stream",
     "text": [
      "Количечество уникальных значений: 18\n",
      "Количество пропусков: 7978\n"
     ]
    }
   ],
   "source": [
    "print('Количечество уникальных значений:', df['Балкон'].nunique())\n",
    "print('Количество пропусков:', df['Балкон'].isna().sum())"
   ]
  },
  {
   "cell_type": "markdown",
   "id": "dd5bfebc",
   "metadata": {},
   "source": [
    "### Колонка \"Окна\":\n",
    "1. Предлагаю закодировать: \"'На улицу и двор', 'Во двор', 'На улицу', 'Не указано'(для пропусков или NaN) - 4 значения кодировки "
   ]
  },
  {
   "cell_type": "code",
   "execution_count": 52,
   "id": "a0be9d9f",
   "metadata": {
    "jupyter": {
     "source_hidden": true
    }
   },
   "outputs": [
    {
     "name": "stdout",
     "output_type": "stream",
     "text": [
      "Количечество уникальных значений: 3\n",
      "Список уникальных значений: [nan, 'На улицу и двор', 'Во двор', 'На улицу']\n",
      "Количество пропусков: 6613\n"
     ]
    }
   ],
   "source": [
    "print('Количечество уникальных значений:', df['Окна'].nunique())\n",
    "print('Список уникальных значений:', list(df['Окна'].unique()))\n",
    "print('Количество пропусков:', df['Окна'].isna().sum())"
   ]
  },
  {
   "cell_type": "markdown",
   "id": "808251f7",
   "metadata": {},
   "source": [
    "### Колонка \"Санузел\"\n",
    "\n",
    "Общая информация по санузул, большая часть сета - квартиры с 1 совмещенным или раздельным санузлом, незаполненных строк - 2672.\n",
    "\n",
    "20 уникальных значений, далее можно закодировать на 20 различных значения и просмотреть корреляцию. Возможно потребуется корректировка на уменьшение значений или пересмотр кодировки.\n",
    "\n",
    "В зависимости от корреляции к цене совмещенного или раздельного санузла nan возможно заменить на одно из значений (т.к. хоть 1 санузел в квартире точно есть). если корреляция небольшая или её нет, можно привести просто к количеству санузлов."
   ]
  },
  {
   "cell_type": "code",
   "execution_count": 53,
   "id": "4f4b0692",
   "metadata": {
    "jupyter": {
     "source_hidden": true
    }
   },
   "outputs": [
    {
     "data": {
      "text/html": [
       "<div>\n",
       "<style scoped>\n",
       "    .dataframe tbody tr th:only-of-type {\n",
       "        vertical-align: middle;\n",
       "    }\n",
       "\n",
       "    .dataframe tbody tr th {\n",
       "        vertical-align: top;\n",
       "    }\n",
       "\n",
       "    .dataframe thead th {\n",
       "        text-align: right;\n",
       "    }\n",
       "</style>\n",
       "<table border=\"1\" class=\"dataframe\">\n",
       "  <thead>\n",
       "    <tr style=\"text-align: right;\">\n",
       "      <th></th>\n",
       "      <th>Санузел</th>\n",
       "      <th>count</th>\n",
       "    </tr>\n",
       "  </thead>\n",
       "  <tbody>\n",
       "    <tr>\n",
       "      <th>0</th>\n",
       "      <td>Совмещенный (1)</td>\n",
       "      <td>10078</td>\n",
       "    </tr>\n",
       "    <tr>\n",
       "      <th>1</th>\n",
       "      <td>Раздельный (1)</td>\n",
       "      <td>7158</td>\n",
       "    </tr>\n",
       "    <tr>\n",
       "      <th>2</th>\n",
       "      <td>NaN</td>\n",
       "      <td>2672</td>\n",
       "    </tr>\n",
       "    <tr>\n",
       "      <th>3</th>\n",
       "      <td>Совмещенный (2)</td>\n",
       "      <td>1437</td>\n",
       "    </tr>\n",
       "    <tr>\n",
       "      <th>4</th>\n",
       "      <td>Совмещенный (1), Раздельный (1)</td>\n",
       "      <td>812</td>\n",
       "    </tr>\n",
       "    <tr>\n",
       "      <th>5</th>\n",
       "      <td>Раздельный (2)</td>\n",
       "      <td>534</td>\n",
       "    </tr>\n",
       "    <tr>\n",
       "      <th>6</th>\n",
       "      <td>Совмещенный (3)</td>\n",
       "      <td>241</td>\n",
       "    </tr>\n",
       "    <tr>\n",
       "      <th>7</th>\n",
       "      <td>Совмещенный (2), Раздельный (1)</td>\n",
       "      <td>188</td>\n",
       "    </tr>\n",
       "    <tr>\n",
       "      <th>8</th>\n",
       "      <td>Совмещенный (4)</td>\n",
       "      <td>77</td>\n",
       "    </tr>\n",
       "    <tr>\n",
       "      <th>9</th>\n",
       "      <td>Раздельный (3)</td>\n",
       "      <td>52</td>\n",
       "    </tr>\n",
       "    <tr>\n",
       "      <th>10</th>\n",
       "      <td>Совмещенный (1), Раздельный (2)</td>\n",
       "      <td>30</td>\n",
       "    </tr>\n",
       "    <tr>\n",
       "      <th>11</th>\n",
       "      <td>Совмещенный (3), Раздельный (1)</td>\n",
       "      <td>27</td>\n",
       "    </tr>\n",
       "    <tr>\n",
       "      <th>12</th>\n",
       "      <td>Совмещенный (2), Раздельный (2)</td>\n",
       "      <td>25</td>\n",
       "    </tr>\n",
       "    <tr>\n",
       "      <th>13</th>\n",
       "      <td>Раздельный (4)</td>\n",
       "      <td>15</td>\n",
       "    </tr>\n",
       "    <tr>\n",
       "      <th>14</th>\n",
       "      <td>Совмещенный (3), Раздельный (3)</td>\n",
       "      <td>6</td>\n",
       "    </tr>\n",
       "    <tr>\n",
       "      <th>15</th>\n",
       "      <td>Совмещенный (4), Раздельный (1)</td>\n",
       "      <td>6</td>\n",
       "    </tr>\n",
       "    <tr>\n",
       "      <th>16</th>\n",
       "      <td>Совмещенный (4), Раздельный (2)</td>\n",
       "      <td>4</td>\n",
       "    </tr>\n",
       "    <tr>\n",
       "      <th>17</th>\n",
       "      <td>Совмещенный (1), Раздельный (3)</td>\n",
       "      <td>2</td>\n",
       "    </tr>\n",
       "    <tr>\n",
       "      <th>18</th>\n",
       "      <td>Совмещенный (2), Раздельный (3)</td>\n",
       "      <td>2</td>\n",
       "    </tr>\n",
       "    <tr>\n",
       "      <th>19</th>\n",
       "      <td>Совмещенный (2), Раздельный (4)</td>\n",
       "      <td>1</td>\n",
       "    </tr>\n",
       "    <tr>\n",
       "      <th>20</th>\n",
       "      <td>Совмещенный (3), Раздельный (2)</td>\n",
       "      <td>1</td>\n",
       "    </tr>\n",
       "  </tbody>\n",
       "</table>\n",
       "</div>"
      ],
      "text/plain": [
       "                            Санузел  count\n",
       "0                   Совмещенный (1)  10078\n",
       "1                    Раздельный (1)   7158\n",
       "2                               NaN   2672\n",
       "3                   Совмещенный (2)   1437\n",
       "4   Совмещенный (1), Раздельный (1)    812\n",
       "5                    Раздельный (2)    534\n",
       "6                   Совмещенный (3)    241\n",
       "7   Совмещенный (2), Раздельный (1)    188\n",
       "8                   Совмещенный (4)     77\n",
       "9                    Раздельный (3)     52\n",
       "10  Совмещенный (1), Раздельный (2)     30\n",
       "11  Совмещенный (3), Раздельный (1)     27\n",
       "12  Совмещенный (2), Раздельный (2)     25\n",
       "13                   Раздельный (4)     15\n",
       "14  Совмещенный (3), Раздельный (3)      6\n",
       "15  Совмещенный (4), Раздельный (1)      6\n",
       "16  Совмещенный (4), Раздельный (2)      4\n",
       "17  Совмещенный (1), Раздельный (3)      2\n",
       "18  Совмещенный (2), Раздельный (3)      2\n",
       "19  Совмещенный (2), Раздельный (4)      1\n",
       "20  Совмещенный (3), Раздельный (2)      1"
      ]
     },
     "execution_count": 53,
     "metadata": {},
     "output_type": "execute_result"
    }
   ],
   "source": [
    "df['Санузел'].value_counts(dropna=False).reset_index()"
   ]
  },
  {
   "cell_type": "code",
   "execution_count": null,
   "id": "fd8497aa",
   "metadata": {
    "jupyter": {
     "source_hidden": true
    }
   },
   "outputs": [
    {
     "data": {
      "image/png": "[encoded data removed]",
      "text/plain": [
       "<Figure size 640x480 with 1 Axes>"
      ]
     },
     "metadata": {},
     "output_type": "display_data"
    }
   ],
   "source": [
    "sns.barplot(data=df['Санузел'].value_counts(dropna=False).reset_index(), x='Санузел', y='count')\n",
    "plt.xticks(rotation=90);\n"
   ]
  },
  {
   "cell_type": "markdown",
   "id": "37c5f908",
   "metadata": {},
   "source": [
    "### Колонка \"Можно с детьми/животными\"\n",
    "\n",
    "Небольшое количество уникальных значений, далее можно закодировать на 4 различных значения и просмотреть корреляцию. Возможно потребуется корректировка, как в пункте выше.\n",
    "\n",
    "Т.к. по Nan информацию подтянуть ниоткуда нельзя, препдоположим, что это означает, что нельзя ни с детьми, ни с животными."
   ]
  },
  {
   "cell_type": "code",
   "execution_count": null,
   "id": "a3b912da",
   "metadata": {
    "jupyter": {
     "source_hidden": true
    }
   },
   "outputs": [
    {
     "data": {
      "text/html": [
       "<div>\n",
       "<style scoped>\n",
       "    .dataframe tbody tr th:only-of-type {\n",
       "        vertical-align: middle;\n",
       "    }\n",
       "\n",
       "    .dataframe tbody tr th {\n",
       "        vertical-align: top;\n",
       "    }\n",
       "\n",
       "    .dataframe thead th {\n",
       "        text-align: right;\n",
       "    }\n",
       "</style>\n",
       "<table border=\"1\" class=\"dataframe\">\n",
       "  <thead>\n",
       "    <tr style=\"text-align: right;\">\n",
       "      <th></th>\n",
       "      <th>Можно с детьми/животными</th>\n",
       "      <th>count</th>\n",
       "    </tr>\n",
       "  </thead>\n",
       "  <tbody>\n",
       "    <tr>\n",
       "      <th>0</th>\n",
       "      <td>Можно с детьми</td>\n",
       "      <td>10134</td>\n",
       "    </tr>\n",
       "    <tr>\n",
       "      <th>1</th>\n",
       "      <td>Можно с детьми, Можно с животными</td>\n",
       "      <td>6899</td>\n",
       "    </tr>\n",
       "    <tr>\n",
       "      <th>2</th>\n",
       "      <td>NaN</td>\n",
       "      <td>6096</td>\n",
       "    </tr>\n",
       "    <tr>\n",
       "      <th>3</th>\n",
       "      <td>Можно с животными</td>\n",
       "      <td>239</td>\n",
       "    </tr>\n",
       "  </tbody>\n",
       "</table>\n",
       "</div>"
      ],
      "text/plain": [
       "            Можно с детьми/животными  count\n",
       "0                     Можно с детьми  10134\n",
       "1  Можно с детьми, Можно с животными   6899\n",
       "2                                NaN   6096\n",
       "3                  Можно с животными    239"
      ]
     },
     "execution_count": 126,
     "metadata": {},
     "output_type": "execute_result"
    }
   ],
   "source": [
    "df['Можно с детьми/животными'].value_counts(dropna=False).reset_index()"
   ]
  },
  {
   "cell_type": "markdown",
   "id": "3f4d4deb",
   "metadata": {},
   "source": [
    "### Колонка \"Дополнительно\"\n",
    "\n",
    "528 уникальных значений, предположительно кодировка в изначальном виде не имеет. возможно придется обрабатывать текст в список и делать вывод по элементам списка.\n",
    "пропусков мало, возможна большая корреляция с ценой. ясно будет после выявления цены."
   ]
  },
  {
   "cell_type": "code",
   "execution_count": 55,
   "id": "3ddfccf3",
   "metadata": {
    "jupyter": {
     "source_hidden": true
    }
   },
   "outputs": [
    {
     "data": {
      "text/html": [
       "<div>\n",
       "<style scoped>\n",
       "    .dataframe tbody tr th:only-of-type {\n",
       "        vertical-align: middle;\n",
       "    }\n",
       "\n",
       "    .dataframe tbody tr th {\n",
       "        vertical-align: top;\n",
       "    }\n",
       "\n",
       "    .dataframe thead th {\n",
       "        text-align: right;\n",
       "    }\n",
       "</style>\n",
       "<table border=\"1\" class=\"dataframe\">\n",
       "  <thead>\n",
       "    <tr style=\"text-align: right;\">\n",
       "      <th></th>\n",
       "      <th>Дополнительно</th>\n",
       "    </tr>\n",
       "  </thead>\n",
       "  <tbody>\n",
       "    <tr>\n",
       "      <th>count</th>\n",
       "      <td>23011</td>\n",
       "    </tr>\n",
       "    <tr>\n",
       "      <th>unique</th>\n",
       "      <td>528</td>\n",
       "    </tr>\n",
       "    <tr>\n",
       "      <th>top</th>\n",
       "      <td>Мебель в комнатах, Мебель на кухне, Ванна, Сти...</td>\n",
       "    </tr>\n",
       "    <tr>\n",
       "      <th>freq</th>\n",
       "      <td>2896</td>\n",
       "    </tr>\n",
       "  </tbody>\n",
       "</table>\n",
       "</div>"
      ],
      "text/plain": [
       "                                            Дополнительно\n",
       "count                                               23011\n",
       "unique                                                528\n",
       "top     Мебель в комнатах, Мебель на кухне, Ванна, Сти...\n",
       "freq                                                 2896"
      ]
     },
     "execution_count": 55,
     "metadata": {},
     "output_type": "execute_result"
    }
   ],
   "source": [
    "df[['Дополнительно']].describe()"
   ]
  },
  {
   "cell_type": "markdown",
   "id": "8d486951",
   "metadata": {},
   "source": [
    "### Колонка \"Название ЖК\"\n",
    "\n",
    "17520 пропусков, в остальном много уникальных значений с малым количеством повторений. предполагаем, что корреляция есть. \n",
    "тогда все где есть название - дома более высокого класса жилья. после кодируем на 2 признака в этом ключе."
   ]
  },
  {
   "cell_type": "code",
   "execution_count": 56,
   "id": "5a27ceaa",
   "metadata": {
    "jupyter": {
     "source_hidden": true
    }
   },
   "outputs": [
    {
     "data": {
      "text/html": [
       "<div>\n",
       "<style scoped>\n",
       "    .dataframe tbody tr th:only-of-type {\n",
       "        vertical-align: middle;\n",
       "    }\n",
       "\n",
       "    .dataframe tbody tr th {\n",
       "        vertical-align: top;\n",
       "    }\n",
       "\n",
       "    .dataframe thead th {\n",
       "        text-align: right;\n",
       "    }\n",
       "</style>\n",
       "<table border=\"1\" class=\"dataframe\">\n",
       "  <thead>\n",
       "    <tr style=\"text-align: right;\">\n",
       "      <th></th>\n",
       "      <th>Название ЖК</th>\n",
       "      <th>count</th>\n",
       "    </tr>\n",
       "  </thead>\n",
       "  <tbody>\n",
       "    <tr>\n",
       "      <th>0</th>\n",
       "      <td>NaN</td>\n",
       "      <td>17520</td>\n",
       "    </tr>\n",
       "    <tr>\n",
       "      <th>1</th>\n",
       "      <td>Символ, 2019</td>\n",
       "      <td>61</td>\n",
       "    </tr>\n",
       "    <tr>\n",
       "      <th>2</th>\n",
       "      <td>Водный, 2015</td>\n",
       "      <td>45</td>\n",
       "    </tr>\n",
       "    <tr>\n",
       "      <th>3</th>\n",
       "      <td>Квартал на Ленинском</td>\n",
       "      <td>37</td>\n",
       "    </tr>\n",
       "    <tr>\n",
       "      <th>4</th>\n",
       "      <td>Метрополия, 2021</td>\n",
       "      <td>36</td>\n",
       "    </tr>\n",
       "    <tr>\n",
       "      <th>...</th>\n",
       "      <td>...</td>\n",
       "      <td>...</td>\n",
       "    </tr>\n",
       "    <tr>\n",
       "      <th>1794</th>\n",
       "      <td>Помидор, 2000</td>\n",
       "      <td>1</td>\n",
       "    </tr>\n",
       "    <tr>\n",
       "      <th>1795</th>\n",
       "      <td>Талисман на Дмитровском, 2022</td>\n",
       "      <td>1</td>\n",
       "    </tr>\n",
       "    <tr>\n",
       "      <th>1796</th>\n",
       "      <td>LIFE-Волжская, 2012</td>\n",
       "      <td>1</td>\n",
       "    </tr>\n",
       "    <tr>\n",
       "      <th>1797</th>\n",
       "      <td>Грани, 2020</td>\n",
       "      <td>1</td>\n",
       "    </tr>\n",
       "    <tr>\n",
       "      <th>1798</th>\n",
       "      <td>В Солнцево</td>\n",
       "      <td>1</td>\n",
       "    </tr>\n",
       "  </tbody>\n",
       "</table>\n",
       "<p>1799 rows × 2 columns</p>\n",
       "</div>"
      ],
      "text/plain": [
       "                        Название ЖК  count\n",
       "0                               NaN  17520\n",
       "1                      Символ, 2019     61\n",
       "2                      Водный, 2015     45\n",
       "3              Квартал на Ленинском     37\n",
       "4                  Метрополия, 2021     36\n",
       "...                             ...    ...\n",
       "1794                  Помидор, 2000      1\n",
       "1795  Талисман на Дмитровском, 2022      1\n",
       "1796            LIFE-Волжская, 2012      1\n",
       "1797                    Грани, 2020      1\n",
       "1798                     В Солнцево      1\n",
       "\n",
       "[1799 rows x 2 columns]"
      ]
     },
     "execution_count": 56,
     "metadata": {},
     "output_type": "execute_result"
    }
   ],
   "source": [
    "df['Название ЖК'].value_counts(dropna=False).reset_index()"
   ]
  },
  {
   "cell_type": "markdown",
   "id": "21ba7ed9",
   "metadata": {},
   "source": [
    "### Колонка \"Серия дома\"\n",
    "\n",
    "Заполненных строк мало, наибольшее количество встречается среди \"индивидуальным проектом\" в разном регистре. \n",
    "Можно предположить, что есть корреляция с ценой. тогда все остальные значения можно представить, как типовое жилье. дальше произвести кодировку по 2 признакам."
   ]
  },
  {
   "cell_type": "code",
   "execution_count": 57,
   "id": "75d21672",
   "metadata": {
    "jupyter": {
     "source_hidden": true
    }
   },
   "outputs": [
    {
     "data": {
      "text/html": [
       "<div>\n",
       "<style scoped>\n",
       "    .dataframe tbody tr th:only-of-type {\n",
       "        vertical-align: middle;\n",
       "    }\n",
       "\n",
       "    .dataframe tbody tr th {\n",
       "        vertical-align: top;\n",
       "    }\n",
       "\n",
       "    .dataframe thead th {\n",
       "        text-align: right;\n",
       "    }\n",
       "</style>\n",
       "<table border=\"1\" class=\"dataframe\">\n",
       "  <thead>\n",
       "    <tr style=\"text-align: right;\">\n",
       "      <th></th>\n",
       "      <th>Серия дома</th>\n",
       "      <th>count</th>\n",
       "    </tr>\n",
       "  </thead>\n",
       "  <tbody>\n",
       "    <tr>\n",
       "      <th>0</th>\n",
       "      <td>NaN</td>\n",
       "      <td>21205</td>\n",
       "    </tr>\n",
       "    <tr>\n",
       "      <th>1</th>\n",
       "      <td>индивидуальный проект</td>\n",
       "      <td>615</td>\n",
       "    </tr>\n",
       "    <tr>\n",
       "      <th>2</th>\n",
       "      <td>Индивидуальный проект</td>\n",
       "      <td>139</td>\n",
       "    </tr>\n",
       "    <tr>\n",
       "      <th>3</th>\n",
       "      <td>П44</td>\n",
       "      <td>89</td>\n",
       "    </tr>\n",
       "    <tr>\n",
       "      <th>4</th>\n",
       "      <td>П44Т</td>\n",
       "      <td>63</td>\n",
       "    </tr>\n",
       "    <tr>\n",
       "      <th>...</th>\n",
       "      <td>...</td>\n",
       "      <td>...</td>\n",
       "    </tr>\n",
       "    <tr>\n",
       "      <th>389</th>\n",
       "      <td>I-510 (I-510/23БИ)</td>\n",
       "      <td>1</td>\n",
       "    </tr>\n",
       "    <tr>\n",
       "      <th>390</th>\n",
       "      <td>КПД-4572А</td>\n",
       "      <td>1</td>\n",
       "    </tr>\n",
       "    <tr>\n",
       "      <th>391</th>\n",
       "      <td>Монолитный</td>\n",
       "      <td>1</td>\n",
       "    </tr>\n",
       "    <tr>\n",
       "      <th>392</th>\n",
       "      <td>П44т</td>\n",
       "      <td>1</td>\n",
       "    </tr>\n",
       "    <tr>\n",
       "      <th>393</th>\n",
       "      <td>П 44-Т</td>\n",
       "      <td>1</td>\n",
       "    </tr>\n",
       "  </tbody>\n",
       "</table>\n",
       "<p>394 rows × 2 columns</p>\n",
       "</div>"
      ],
      "text/plain": [
       "                Серия дома  count\n",
       "0                      NaN  21205\n",
       "1    индивидуальный проект    615\n",
       "2    Индивидуальный проект    139\n",
       "3                      П44     89\n",
       "4                     П44Т     63\n",
       "..                     ...    ...\n",
       "389     I-510 (I-510/23БИ)      1\n",
       "390              КПД-4572А      1\n",
       "391             Монолитный      1\n",
       "392                   П44т      1\n",
       "393                 П 44-Т      1\n",
       "\n",
       "[394 rows x 2 columns]"
      ]
     },
     "execution_count": 57,
     "metadata": {},
     "output_type": "execute_result"
    }
   ],
   "source": [
    "df['Серия дома'].value_counts(dropna=False).reset_index()"
   ]
  },
  {
   "cell_type": "markdown",
   "id": "3589e4e2",
   "metadata": {},
   "source": [
    "### Колонка \"Высота потолков, м\"\n",
    "\n",
    "Пропуски можно заменить на медиану, как наиболее стабильную мцт.\n",
    "\n",
    "Есть явные выбросы вверх и вниз, требуется дополнительная нормализация данных."
   ]
  },
  {
   "cell_type": "code",
   "execution_count": 61,
   "id": "04fc4835",
   "metadata": {
    "jupyter": {
     "source_hidden": true
    }
   },
   "outputs": [
    {
     "data": {
      "text/html": [
       "<div>\n",
       "<style scoped>\n",
       "    .dataframe tbody tr th:only-of-type {\n",
       "        vertical-align: middle;\n",
       "    }\n",
       "\n",
       "    .dataframe tbody tr th {\n",
       "        vertical-align: top;\n",
       "    }\n",
       "\n",
       "    .dataframe thead th {\n",
       "        text-align: right;\n",
       "    }\n",
       "</style>\n",
       "<table border=\"1\" class=\"dataframe\">\n",
       "  <thead>\n",
       "    <tr style=\"text-align: right;\">\n",
       "      <th></th>\n",
       "      <th>Высота потолков, м</th>\n",
       "    </tr>\n",
       "  </thead>\n",
       "  <tbody>\n",
       "    <tr>\n",
       "      <th>count</th>\n",
       "      <td>11206.00000</td>\n",
       "    </tr>\n",
       "    <tr>\n",
       "      <th>mean</th>\n",
       "      <td>2.98345</td>\n",
       "    </tr>\n",
       "    <tr>\n",
       "      <th>std</th>\n",
       "      <td>7.61472</td>\n",
       "    </tr>\n",
       "    <tr>\n",
       "      <th>min</th>\n",
       "      <td>1.20000</td>\n",
       "    </tr>\n",
       "    <tr>\n",
       "      <th>25%</th>\n",
       "      <td>2.64000</td>\n",
       "    </tr>\n",
       "    <tr>\n",
       "      <th>50%</th>\n",
       "      <td>2.64000</td>\n",
       "    </tr>\n",
       "    <tr>\n",
       "      <th>75%</th>\n",
       "      <td>2.80000</td>\n",
       "    </tr>\n",
       "    <tr>\n",
       "      <th>max</th>\n",
       "      <td>320.00000</td>\n",
       "    </tr>\n",
       "  </tbody>\n",
       "</table>\n",
       "</div>"
      ],
      "text/plain": [
       "       Высота потолков, м\n",
       "count         11206.00000\n",
       "mean              2.98345\n",
       "std               7.61472\n",
       "min               1.20000\n",
       "25%               2.64000\n",
       "50%               2.64000\n",
       "75%               2.80000\n",
       "max             320.00000"
      ]
     },
     "execution_count": 61,
     "metadata": {},
     "output_type": "execute_result"
    }
   ],
   "source": [
    "df[['Высота потолков, м']].describe()\n"
   ]
  },
  {
   "cell_type": "code",
   "execution_count": 60,
   "id": "0bdcbd38",
   "metadata": {
    "jupyter": {
     "source_hidden": true
    }
   },
   "outputs": [
    {
     "data": {
      "text/plain": [
       "Высота потолков, м\n",
       "320.0                 2\n",
       "310.0                 1\n",
       "280.0                 1\n",
       "265.0                 1\n",
       "264.0                 2\n",
       "                     ..\n",
       "2.3                   3\n",
       "2.2                   2\n",
       "2.1                   1\n",
       "2.0                   3\n",
       "1.2                   1\n",
       "Name: count, Length: 95, dtype: int64"
      ]
     },
     "execution_count": 60,
     "metadata": {},
     "output_type": "execute_result"
    }
   ],
   "source": [
    "df[['Высота потолков, м']].value_counts().sort_index(ascending=False)"
   ]
  },
  {
   "cell_type": "markdown",
   "id": "b3079961",
   "metadata": {},
   "source": [
    "### Колонка \"Лифт\"\n",
    "\n",
    "Ситуация схожая с санузлами,только под NaN можно предположить отсутствие лифта. \n",
    "\n",
    "Можно заменить значениями суммирующими общее количество лифтов в доме (и пассажирских и грузовых) и проверить корреляцию"
   ]
  },
  {
   "cell_type": "code",
   "execution_count": 62,
   "id": "2477641a",
   "metadata": {
    "jupyter": {
     "source_hidden": true
    }
   },
   "outputs": [
    {
     "data": {
      "text/html": [
       "<div>\n",
       "<style scoped>\n",
       "    .dataframe tbody tr th:only-of-type {\n",
       "        vertical-align: middle;\n",
       "    }\n",
       "\n",
       "    .dataframe tbody tr th {\n",
       "        vertical-align: top;\n",
       "    }\n",
       "\n",
       "    .dataframe thead th {\n",
       "        text-align: right;\n",
       "    }\n",
       "</style>\n",
       "<table border=\"1\" class=\"dataframe\">\n",
       "  <thead>\n",
       "    <tr style=\"text-align: right;\">\n",
       "      <th></th>\n",
       "      <th>Лифт</th>\n",
       "      <th>count</th>\n",
       "    </tr>\n",
       "  </thead>\n",
       "  <tbody>\n",
       "    <tr>\n",
       "      <th>0</th>\n",
       "      <td>Пасс (1)</td>\n",
       "      <td>5911</td>\n",
       "    </tr>\n",
       "    <tr>\n",
       "      <th>1</th>\n",
       "      <td>NaN</td>\n",
       "      <td>5500</td>\n",
       "    </tr>\n",
       "    <tr>\n",
       "      <th>2</th>\n",
       "      <td>Пасс (2)</td>\n",
       "      <td>4326</td>\n",
       "    </tr>\n",
       "    <tr>\n",
       "      <th>3</th>\n",
       "      <td>Пасс (1), Груз (1)</td>\n",
       "      <td>3962</td>\n",
       "    </tr>\n",
       "    <tr>\n",
       "      <th>4</th>\n",
       "      <td>Пасс (2), Груз (1)</td>\n",
       "      <td>1224</td>\n",
       "    </tr>\n",
       "    <tr>\n",
       "      <th>5</th>\n",
       "      <td>Пасс (2), Груз (2)</td>\n",
       "      <td>654</td>\n",
       "    </tr>\n",
       "    <tr>\n",
       "      <th>6</th>\n",
       "      <td>Пасс (3)</td>\n",
       "      <td>636</td>\n",
       "    </tr>\n",
       "    <tr>\n",
       "      <th>7</th>\n",
       "      <td>Пасс (4)</td>\n",
       "      <td>346</td>\n",
       "    </tr>\n",
       "    <tr>\n",
       "      <th>8</th>\n",
       "      <td>Пасс (3), Груз (1)</td>\n",
       "      <td>187</td>\n",
       "    </tr>\n",
       "    <tr>\n",
       "      <th>9</th>\n",
       "      <td>Пасс (1), Груз (2)</td>\n",
       "      <td>185</td>\n",
       "    </tr>\n",
       "    <tr>\n",
       "      <th>10</th>\n",
       "      <td>Груз (1)</td>\n",
       "      <td>95</td>\n",
       "    </tr>\n",
       "    <tr>\n",
       "      <th>11</th>\n",
       "      <td>Пасс (4), Груз (2)</td>\n",
       "      <td>65</td>\n",
       "    </tr>\n",
       "    <tr>\n",
       "      <th>12</th>\n",
       "      <td>Пасс (4), Груз (1)</td>\n",
       "      <td>64</td>\n",
       "    </tr>\n",
       "    <tr>\n",
       "      <th>13</th>\n",
       "      <td>Пасс (3), Груз (3)</td>\n",
       "      <td>45</td>\n",
       "    </tr>\n",
       "    <tr>\n",
       "      <th>14</th>\n",
       "      <td>Пасс (3), Груз (2)</td>\n",
       "      <td>44</td>\n",
       "    </tr>\n",
       "    <tr>\n",
       "      <th>15</th>\n",
       "      <td>Пасс (4), Груз (4)</td>\n",
       "      <td>28</td>\n",
       "    </tr>\n",
       "    <tr>\n",
       "      <th>16</th>\n",
       "      <td>Груз (4)</td>\n",
       "      <td>25</td>\n",
       "    </tr>\n",
       "    <tr>\n",
       "      <th>17</th>\n",
       "      <td>Груз (2)</td>\n",
       "      <td>20</td>\n",
       "    </tr>\n",
       "    <tr>\n",
       "      <th>18</th>\n",
       "      <td>Груз (3)</td>\n",
       "      <td>15</td>\n",
       "    </tr>\n",
       "    <tr>\n",
       "      <th>19</th>\n",
       "      <td>Пасс (4), Груз (3)</td>\n",
       "      <td>7</td>\n",
       "    </tr>\n",
       "    <tr>\n",
       "      <th>20</th>\n",
       "      <td>Пасс (6)</td>\n",
       "      <td>6</td>\n",
       "    </tr>\n",
       "    <tr>\n",
       "      <th>21</th>\n",
       "      <td>Пасс (1), Груз (3)</td>\n",
       "      <td>6</td>\n",
       "    </tr>\n",
       "    <tr>\n",
       "      <th>22</th>\n",
       "      <td>Пасс (2), Груз (3)</td>\n",
       "      <td>3</td>\n",
       "    </tr>\n",
       "    <tr>\n",
       "      <th>23</th>\n",
       "      <td>Пасс (60)</td>\n",
       "      <td>2</td>\n",
       "    </tr>\n",
       "    <tr>\n",
       "      <th>24</th>\n",
       "      <td>Пасс (50)</td>\n",
       "      <td>2</td>\n",
       "    </tr>\n",
       "    <tr>\n",
       "      <th>25</th>\n",
       "      <td>Пасс (1), Груз (12)</td>\n",
       "      <td>1</td>\n",
       "    </tr>\n",
       "    <tr>\n",
       "      <th>26</th>\n",
       "      <td>Пасс (5), Груз (1)</td>\n",
       "      <td>1</td>\n",
       "    </tr>\n",
       "    <tr>\n",
       "      <th>27</th>\n",
       "      <td>Пасс (8), Груз (8)</td>\n",
       "      <td>1</td>\n",
       "    </tr>\n",
       "    <tr>\n",
       "      <th>28</th>\n",
       "      <td>Пасс (7)</td>\n",
       "      <td>1</td>\n",
       "    </tr>\n",
       "    <tr>\n",
       "      <th>29</th>\n",
       "      <td>Пасс (1), Груз (4)</td>\n",
       "      <td>1</td>\n",
       "    </tr>\n",
       "    <tr>\n",
       "      <th>30</th>\n",
       "      <td>Пасс (5), Груз (3)</td>\n",
       "      <td>1</td>\n",
       "    </tr>\n",
       "    <tr>\n",
       "      <th>31</th>\n",
       "      <td>Пасс (2), Груз (4)</td>\n",
       "      <td>1</td>\n",
       "    </tr>\n",
       "    <tr>\n",
       "      <th>32</th>\n",
       "      <td>Груз (6)</td>\n",
       "      <td>1</td>\n",
       "    </tr>\n",
       "    <tr>\n",
       "      <th>33</th>\n",
       "      <td>Груз (8)</td>\n",
       "      <td>1</td>\n",
       "    </tr>\n",
       "    <tr>\n",
       "      <th>34</th>\n",
       "      <td>Пасс (5)</td>\n",
       "      <td>1</td>\n",
       "    </tr>\n",
       "  </tbody>\n",
       "</table>\n",
       "</div>"
      ],
      "text/plain": [
       "                   Лифт  count\n",
       "0              Пасс (1)   5911\n",
       "1                   NaN   5500\n",
       "2              Пасс (2)   4326\n",
       "3    Пасс (1), Груз (1)   3962\n",
       "4    Пасс (2), Груз (1)   1224\n",
       "5    Пасс (2), Груз (2)    654\n",
       "6              Пасс (3)    636\n",
       "7              Пасс (4)    346\n",
       "8    Пасс (3), Груз (1)    187\n",
       "9    Пасс (1), Груз (2)    185\n",
       "10             Груз (1)     95\n",
       "11   Пасс (4), Груз (2)     65\n",
       "12   Пасс (4), Груз (1)     64\n",
       "13   Пасс (3), Груз (3)     45\n",
       "14   Пасс (3), Груз (2)     44\n",
       "15   Пасс (4), Груз (4)     28\n",
       "16             Груз (4)     25\n",
       "17             Груз (2)     20\n",
       "18             Груз (3)     15\n",
       "19   Пасс (4), Груз (3)      7\n",
       "20             Пасс (6)      6\n",
       "21   Пасс (1), Груз (3)      6\n",
       "22   Пасс (2), Груз (3)      3\n",
       "23            Пасс (60)      2\n",
       "24            Пасс (50)      2\n",
       "25  Пасс (1), Груз (12)      1\n",
       "26   Пасс (5), Груз (1)      1\n",
       "27   Пасс (8), Груз (8)      1\n",
       "28             Пасс (7)      1\n",
       "29   Пасс (1), Груз (4)      1\n",
       "30   Пасс (5), Груз (3)      1\n",
       "31   Пасс (2), Груз (4)      1\n",
       "32             Груз (6)      1\n",
       "33             Груз (8)      1\n",
       "34             Пасс (5)      1"
      ]
     },
     "execution_count": 62,
     "metadata": {},
     "output_type": "execute_result"
    }
   ],
   "source": [
    "df['Лифт'].value_counts(dropna=False).reset_index()"
   ]
  },
  {
   "cell_type": "markdown",
   "id": "0ff03d12",
   "metadata": {},
   "source": [
    "### Колонка 'Мусоропровод'\n",
    "\n",
    "Предположительно наличие мусоропровода должно влиять. более половины значений пропущено\n",
    "Примем, что да - 2, нет - 1 или nan - 0. проверим корреляцию и далее будем делать выводы, использовать ли в конечном релизе."
   ]
  },
  {
   "cell_type": "code",
   "execution_count": 63,
   "id": "3d6a76b7",
   "metadata": {
    "jupyter": {
     "source_hidden": true
    }
   },
   "outputs": [
    {
     "data": {
      "text/html": [
       "<div>\n",
       "<style scoped>\n",
       "    .dataframe tbody tr th:only-of-type {\n",
       "        vertical-align: middle;\n",
       "    }\n",
       "\n",
       "    .dataframe tbody tr th {\n",
       "        vertical-align: top;\n",
       "    }\n",
       "\n",
       "    .dataframe thead th {\n",
       "        text-align: right;\n",
       "    }\n",
       "</style>\n",
       "<table border=\"1\" class=\"dataframe\">\n",
       "  <thead>\n",
       "    <tr style=\"text-align: right;\">\n",
       "      <th></th>\n",
       "      <th>Мусоропровод</th>\n",
       "      <th>count</th>\n",
       "    </tr>\n",
       "  </thead>\n",
       "  <tbody>\n",
       "    <tr>\n",
       "      <th>0</th>\n",
       "      <td>Да</td>\n",
       "      <td>10897</td>\n",
       "    </tr>\n",
       "    <tr>\n",
       "      <th>1</th>\n",
       "      <td>NaN</td>\n",
       "      <td>10522</td>\n",
       "    </tr>\n",
       "    <tr>\n",
       "      <th>2</th>\n",
       "      <td>Нет</td>\n",
       "      <td>1949</td>\n",
       "    </tr>\n",
       "  </tbody>\n",
       "</table>\n",
       "</div>"
      ],
      "text/plain": [
       "  Мусоропровод  count\n",
       "0           Да  10897\n",
       "1          NaN  10522\n",
       "2          Нет   1949"
      ]
     },
     "execution_count": 63,
     "metadata": {},
     "output_type": "execute_result"
    }
   ],
   "source": [
    "df['Мусоропровод'].value_counts(dropna=False).reset_index()"
   ]
  },
  {
   "cell_type": "markdown",
   "id": "0fbb7ff4",
   "metadata": {},
   "source": [
    "### Колонка \"Ссылка на объявление\"\n",
    "\n",
    "Все значения уникальны и не имеют влияния на реальную цену, учитывать не будем"
   ]
  },
  {
   "cell_type": "code",
   "execution_count": 64,
   "id": "9798f860",
   "metadata": {
    "jupyter": {
     "source_hidden": true
    }
   },
   "outputs": [
    {
     "data": {
      "text/plain": [
       "0        https://www.cian.ru/rent/flat/271271157\n",
       "1        https://www.cian.ru/rent/flat/271634126\n",
       "2        https://www.cian.ru/rent/flat/271173086\n",
       "3        https://www.cian.ru/rent/flat/272197456\n",
       "4        https://www.cian.ru/rent/flat/273614615\n",
       "                          ...                   \n",
       "23363    https://www.cian.ru/rent/flat/215565511\n",
       "23364    https://www.cian.ru/rent/flat/274654844\n",
       "23365    https://www.cian.ru/rent/flat/268679909\n",
       "23366    https://www.cian.ru/rent/flat/274807525\n",
       "23367    https://www.cian.ru/rent/flat/274672243\n",
       "Name: Ссылка на объявление, Length: 23368, dtype: object"
      ]
     },
     "execution_count": 64,
     "metadata": {},
     "output_type": "execute_result"
    }
   ],
   "source": [
    "df['Ссылка на объявление']"
   ]
  }
 ],
 "metadata": {
  "kernelspec": {
   "display_name": "Python 3 (ipykernel)",
   "language": "python",
   "name": "python3"
  },
  "language_info": {
   "codemirror_mode": {
    "name": "ipython",
    "version": 3
   },
   "file_extension": ".py",
   "mimetype": "text/x-python",
   "name": "python",
   "nbconvert_exporter": "python",
   "pygments_lexer": "ipython3",
   "version": "3.10.12"
  },
  "toc": {
   "base_numbering": 1,
   "nav_menu": {},
   "number_sections": true,
   "sideBar": true,
   "skip_h1_title": true,
   "title_cell": "Table of Contents",
   "title_sidebar": "Contents",
   "toc_cell": true,
   "toc_position": {},
   "toc_section_display": true,
   "toc_window_display": false
  }
 },
 "nbformat": 4,
 "nbformat_minor": 5
}
